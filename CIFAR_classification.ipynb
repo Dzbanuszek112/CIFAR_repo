{
 "cells": [
  {
   "cell_type": "markdown",
   "id": "0a615766-e0ab-43fd-a4bc-e9937f758a77",
   "metadata": {},
   "source": [
    "# Building classification model on CIFAR-10 multiclass dataset\n",
    "It is based on the convolutional neural network implemented with PyTorch API."
   ]
  },
  {
   "cell_type": "code",
   "execution_count": 43,
   "id": "acca56c4-d04d-4702-8db5-d149e13c0cfb",
   "metadata": {},
   "outputs": [],
   "source": [
    "## Packages\n",
    "import torch\n",
    "import torch.nn as nn\n",
    "import torch.nn.functional as F\n",
    "import torchvision\n",
    "from torch.optim import lr_scheduler\n",
    "import torchvision.transforms as transforms\n",
    "from torchvision import models\n",
    "import matplotlib.pyplot as plt\n",
    "import numpy as np"
   ]
  },
  {
   "cell_type": "markdown",
   "id": "dcd6a238-d412-4976-8da3-37f44f4f45d7",
   "metadata": {},
   "source": [
    "## Device configuration and defining hyper parameters"
   ]
  },
  {
   "cell_type": "code",
   "execution_count": 44,
   "id": "b99822e9-7bfa-434a-99c4-c95847676972",
   "metadata": {},
   "outputs": [],
   "source": [
    "# I am using GPU acceleration :)\n",
    "device = torch.device('cuda')\n",
    "\n",
    "# Hyper parameters\n",
    "num_epochs = 10\n",
    "batch_size = 40\n",
    "learning_rate = 0.001"
   ]
  },
  {
   "cell_type": "markdown",
   "id": "bb190937-af4b-4bdc-be9d-4f75bb6356f4",
   "metadata": {},
   "source": [
    "## Loading data"
   ]
  },
  {
   "cell_type": "markdown",
   "id": "4b7de903-35bc-43fc-a674-4340f246a7c9",
   "metadata": {},
   "source": [
    "Firstly let's define a set of transformations which I will apply on images:"
   ]
  },
  {
   "cell_type": "code",
   "execution_count": 78,
   "id": "eaecdcc5-70a9-44b4-83a4-e5b5f7fd443e",
   "metadata": {},
   "outputs": [],
   "source": [
    "mean = np.array([0.5, 0.5, 0.5])\n",
    "std = np.array([0.5, 0.5, 0.5])\n",
    "\n",
    "transform = transforms.Compose([transforms.RandomResizedCrop(32),\n",
    "                                transforms.RandomHorizontalFlip(),\n",
    "                                transforms.ToTensor(),\n",
    "                                transforms.Normalize(mean, std)])"
   ]
  },
  {
   "cell_type": "markdown",
   "id": "2d7fb090-fcaf-4930-987d-417cb5fcb1af",
   "metadata": {},
   "source": [
    "Then creating a train and test dataset:"
   ]
  },
  {
   "cell_type": "code",
   "execution_count": 46,
   "id": "1e0794d8-8a78-4a02-8c14-f0c4f414433d",
   "metadata": {},
   "outputs": [],
   "source": [
    "train_dataset = torchvision.datasets.CIFAR10(root='./data', train=True, download=False, transform=transform)"
   ]
  },
  {
   "cell_type": "code",
   "execution_count": 47,
   "id": "9ddb234c-fc87-4096-8605-2ce1596323c3",
   "metadata": {},
   "outputs": [],
   "source": [
    "test_dataset = torchvision.datasets.CIFAR10(root='./data', train=False, download=False, transform=transform)"
   ]
  },
  {
   "cell_type": "markdown",
   "id": "85bb7284-3fb7-45f3-91a6-e7b11463523e",
   "metadata": {},
   "source": [
    "Some facts about loaded data:"
   ]
  },
  {
   "cell_type": "code",
   "execution_count": 59,
   "id": "135de458-6223-49bd-8377-818baee90fa1",
   "metadata": {},
   "outputs": [
    {
     "name": "stdout",
     "output_type": "stream",
     "text": [
      "There are 10 classes:\n",
      "['airplane', 'automobile', 'bird', 'cat', 'deer', 'dog', 'frog', 'horse', 'ship', 'truck']\n"
     ]
    }
   ],
   "source": [
    "classes = train_dataset.classes\n",
    "classes_test = test_dataset.classes\n",
    "assert len(classes) == len(classes_test), \"Underrepresented classes!\"\n",
    "\n",
    "print(f\"There are {len(classes)} classes:\")\n",
    "print(classes)"
   ]
  },
  {
   "cell_type": "code",
   "execution_count": 56,
   "id": "ff9fc077-9092-406d-af09-b08114e60801",
   "metadata": {},
   "outputs": [
    {
     "name": "stdout",
     "output_type": "stream",
     "text": [
      "There are 50000 examples in the training set.\n"
     ]
    }
   ],
   "source": [
    "train_size = train_dataset.data.shape[0]\n",
    "print(f\"There are {train_size} examples in the training set.\")"
   ]
  },
  {
   "cell_type": "code",
   "execution_count": 57,
   "id": "e42b4632-e05c-493b-ba60-e031e2583ff6",
   "metadata": {},
   "outputs": [
    {
     "name": "stdout",
     "output_type": "stream",
     "text": [
      "There are 10000 examples in the test set.\n"
     ]
    }
   ],
   "source": [
    "test_size = test_dataset.data.shape[0]\n",
    "print(f\"There are {test_size} examples in the test set.\")"
   ]
  },
  {
   "cell_type": "markdown",
   "id": "ff0b5d19-d188-4f4d-aead-584b7c97276d",
   "metadata": {},
   "source": [
    "Defining data loaders:"
   ]
  },
  {
   "cell_type": "code",
   "execution_count": 60,
   "id": "770eaeee-ab27-44e9-a2b4-fee0c1d34921",
   "metadata": {},
   "outputs": [],
   "source": [
    "train_loader = torch.utils.data.DataLoader(train_dataset, batch_size=batch_size, shuffle=True)"
   ]
  },
  {
   "cell_type": "code",
   "execution_count": 61,
   "id": "18771a49-b46d-4f88-96d4-4c05e02acc33",
   "metadata": {},
   "outputs": [],
   "source": [
    "test_loader = torch.utils.data.DataLoader(test_dataset, batch_size=batch_size, shuffle=False)"
   ]
  },
  {
   "cell_type": "markdown",
   "id": "83b7fe35-e845-4c1c-bb15-aad0fe87421b",
   "metadata": {},
   "source": [
    "Visualisation of exemplary images:"
   ]
  },
  {
   "cell_type": "code",
   "execution_count": 97,
   "id": "8a8929f7-37ce-43c9-aeae-d923ef275e36",
   "metadata": {},
   "outputs": [
    {
     "data": {
      "text/plain": [
       "<matplotlib.image.AxesImage at 0x2ada5fa8a470>"
      ]
     },
     "execution_count": 97,
     "metadata": {},
     "output_type": "execute_result"
    },
    {
     "data": {
      "image/png": "[encoded data removed]",
      "text/plain": [
       "<Figure size 432x288 with 1 Axes>"
      ]
     },
     "metadata": {
      "needs_background": "light"
     },
     "output_type": "display_data"
    }
   ],
   "source": [
    "mini_batches = iter(train_loader)\n",
    "mini_batch = next(mini_batches)\n",
    "image = mini_batch[0][0].permute(2, 1, 0)\n",
    "image = image.numpy()\n",
    "inp = std * image + mean\n",
    "inp = np.clip(inp, 0, 1)\n",
    "image.shape\n",
    "inp.shape\n",
    "plt.imshow(inp)"
   ]
  },
  {
   "cell_type": "code",
   "execution_count": 96,
   "id": "9026a0d8-87e6-4d58-93ad-a5efa920a10f",
   "metadata": {},
   "outputs": [
    {
     "data": {
      "text/plain": [
       "array([[[ 0.06666672,  0.2941177 ,  0.7490196 ],\n",
       "        [ 0.07450986,  0.30980396,  0.75686276],\n",
       "        [ 0.09803927,  0.33333337,  0.7647059 ],\n",
       "        ...,\n",
       "        [ 0.48235297,  0.48235297,  0.49803925],\n",
       "        [-0.0745098 , -0.0745098 , -0.05882353],\n",
       "        [-0.3490196 , -0.35686272, -0.3333333 ]],\n",
       "\n",
       "       [[ 0.07450986,  0.30196083,  0.75686276],\n",
       "        [ 0.082353  ,  0.30980396,  0.75686276],\n",
       "        [ 0.09803927,  0.33333337,  0.7647059 ],\n",
       "        ...,\n",
       "        [ 0.33333337,  0.32549024,  0.34901965],\n",
       "        [-0.17647058, -0.18431371, -0.1607843 ],\n",
       "        [-0.4352941 , -0.44313723, -0.41176468]],\n",
       "\n",
       "       [[ 0.082353  ,  0.30980396,  0.7647059 ],\n",
       "        [ 0.09019613,  0.3176471 ,  0.7647059 ],\n",
       "        [ 0.10588241,  0.3411765 ,  0.77254903],\n",
       "        ...,\n",
       "        [-0.08235294, -0.09019607, -0.06666666],\n",
       "        [-0.46666664, -0.47450978, -0.45098037],\n",
       "        [-0.6627451 , -0.67058825, -0.6392157 ]],\n",
       "\n",
       "       ...,\n",
       "\n",
       "       [[ 0.09803927,  0.32549024,  0.77254903],\n",
       "        [ 0.11372554,  0.3411765 ,  0.77254903],\n",
       "        [ 0.13725495,  0.36470592,  0.77254903],\n",
       "        ...,\n",
       "        [ 0.27843142,  0.34901965,  0.3803922 ],\n",
       "        [ 0.28627455,  0.35686278,  0.38823533],\n",
       "        [ 0.28627455,  0.35686278,  0.38823533]],\n",
       "\n",
       "       [[ 0.09803927,  0.32549024,  0.77254903],\n",
       "        [ 0.10588241,  0.3411765 ,  0.77254903],\n",
       "        [ 0.12941182,  0.36470592,  0.7647059 ],\n",
       "        ...,\n",
       "        [-0.02745098,  0.03529418,  0.06666672],\n",
       "        [-0.03529412,  0.0196079 ,  0.05882359],\n",
       "        [-0.04313725,  0.01176476,  0.05098045]],\n",
       "\n",
       "       [[ 0.09803927,  0.32549024,  0.77254903],\n",
       "        [ 0.10588241,  0.3411765 ,  0.77254903],\n",
       "        [ 0.12941182,  0.36470592,  0.7647059 ],\n",
       "        ...,\n",
       "        [-0.1372549 , -0.0745098 , -0.04313725],\n",
       "        [-0.15294117, -0.09803921, -0.06666666],\n",
       "        [-0.1607843 , -0.10588235, -0.0745098 ]]], dtype=float32)"
      ]
     },
     "execution_count": 96,
     "metadata": {},
     "output_type": "execute_result"
    }
   ],
   "source": [
    "image"
   ]
  },
  {
   "cell_type": "markdown",
   "id": "96e23dea-a495-49f5-8684-35b1d0cfc947",
   "metadata": {
    "tags": []
   },
   "source": [
    "## Building CNN Model\n",
    "Firstly I wil try training model from the begining. Two convolutional layers with maxpooling followed by fully connected 3 layers."
   ]
  },
  {
   "cell_type": "code",
   "execution_count": 80,
   "id": "3a4115f9-9711-4207-b1d7-a39f3ad7947f",
   "metadata": {},
   "outputs": [],
   "source": [
    "class ConvNet(nn.Module):\n",
    "    def __init__(self):\n",
    "        super(ConvNet, self).__init__()\n",
    "        self.conv1 = nn.Conv2d(3, 6, 5) #(in_channels, out_channels, kernel_size)\n",
    "        self.pool = nn.MaxPool2d(2, 2) #\n",
    "        self.conv2 = nn.Conv2d(6, 16, 5)\n",
    "        self.fc1 = nn.Linear(16*5*5, 120)\n",
    "        self.fc2 = nn.Linear(120, 84)\n",
    "        self.fc3 = nn.Linear(84, 10)\n",
    "    \n",
    "    def forward(self, x):\n",
    "        x = self.pool(F.relu(self.conv1(x)))\n",
    "        x = self.pool(F.relu(self.conv2(x)))\n",
    "        x = x.view(-1, 16*5*5)\n",
    "        x = F.relu(self.fc1(x))\n",
    "        x = F.relu(self.fc2(x))\n",
    "        x = self.fc3(x)\n",
    "        return x   "
   ]
  },
  {
   "cell_type": "code",
   "execution_count": 81,
   "id": "b2ed1b7b-b599-490c-a225-7a6ddc9ae026",
   "metadata": {},
   "outputs": [],
   "source": [
    "# Model instantiation\n",
    "model = ConvNet().to(device)"
   ]
  },
  {
   "cell_type": "code",
   "execution_count": 82,
   "id": "c35b12ff-f308-4501-94ea-5d7bab4b1f87",
   "metadata": {},
   "outputs": [],
   "source": [
    "# Setting Loss function\n",
    "criterion = nn.CrossEntropyLoss()\n",
    "\n",
    "# Setting optimizer\n",
    "optimizer = torch.optim.Adam(model.parameters(), lr=learning_rate)"
   ]
  },
  {
   "cell_type": "markdown",
   "id": "74d98654-1efe-4881-96b7-49d9809b05df",
   "metadata": {},
   "source": [
    "### Training Loop"
   ]
  },
  {
   "cell_type": "code",
   "execution_count": 83,
   "id": "e1d4a736-1fea-43e8-8064-08fadb7e8ca3",
   "metadata": {},
   "outputs": [
    {
     "name": "stdout",
     "output_type": "stream",
     "text": [
      "Epoch: 1/10, Step: 500/1250, Loss: 1.6062\n",
      "Epoch: 1/10, Step: 1000/1250, Loss: 1.3311\n",
      "Epoch: 2/10, Step: 500/1250, Loss: 1.5644\n",
      "Epoch: 2/10, Step: 1000/1250, Loss: 1.1216\n",
      "Epoch: 3/10, Step: 500/1250, Loss: 1.3293\n",
      "Epoch: 3/10, Step: 1000/1250, Loss: 1.4173\n",
      "Epoch: 4/10, Step: 500/1250, Loss: 1.0742\n",
      "Epoch: 4/10, Step: 1000/1250, Loss: 1.3378\n",
      "Epoch: 5/10, Step: 500/1250, Loss: 1.0384\n",
      "Epoch: 5/10, Step: 1000/1250, Loss: 1.1379\n",
      "Epoch: 6/10, Step: 500/1250, Loss: 1.3039\n",
      "Epoch: 6/10, Step: 1000/1250, Loss: 0.9081\n",
      "Epoch: 7/10, Step: 500/1250, Loss: 1.0259\n",
      "Epoch: 7/10, Step: 1000/1250, Loss: 0.8653\n",
      "Epoch: 8/10, Step: 500/1250, Loss: 1.0190\n",
      "Epoch: 8/10, Step: 1000/1250, Loss: 1.0630\n",
      "Epoch: 9/10, Step: 500/1250, Loss: 0.4741\n",
      "Epoch: 9/10, Step: 1000/1250, Loss: 0.8329\n",
      "Epoch: 10/10, Step: 500/1250, Loss: 1.1568\n",
      "Epoch: 10/10, Step: 1000/1250, Loss: 0.9841\n",
      "Training Finished. Hurraay!\n"
     ]
    }
   ],
   "source": [
    "n_total_steps = len(train_loader) # number of training mini-batches\n",
    "for epoch in range(num_epochs):\n",
    "    for i, (images, labels) in enumerate(train_loader):\n",
    "        # mini-batch is sent to the device \n",
    "        images = images.to(device)\n",
    "        labels = labels.to(device)\n",
    "        \n",
    "        # Forward pass\n",
    "        outputs = model(images)\n",
    "        loss = criterion(outputs, labels)\n",
    "        \n",
    "        # Backward and optimize\n",
    "        optimizer.zero_grad()\n",
    "        loss.backward()\n",
    "        optimizer.step()\n",
    "        \n",
    "        if (i+1) % 500 == 0:\n",
    "            print(f'Epoch: {epoch+1}/{num_epochs}, Step: {i+1}/{n_total_steps}, Loss: {loss.item():.4f}')\n",
    "\n",
    "print('Training Finished. Hurraay!')"
   ]
  },
  {
   "cell_type": "markdown",
   "id": "6adc88fb-c3b0-4106-802d-bd925457c255",
   "metadata": {},
   "source": [
    "### TEST"
   ]
  },
  {
   "cell_type": "code",
   "execution_count": 84,
   "id": "fd4ec9a5-cf11-4d9c-b96f-d9cb1f085c71",
   "metadata": {},
   "outputs": [
    {
     "name": "stdout",
     "output_type": "stream",
     "text": [
      "Accuracy of the network: 63.67%\n",
      "Accuracy of plane: 71.1%\n",
      "Accuracy of car: 82.4%\n",
      "Accuracy of bird: 55.9%\n",
      "Accuracy of cat: 43.6%\n",
      "Accuracy of deer: 56.7%\n",
      "Accuracy of dog: 38.1%\n",
      "Accuracy of frog: 73.1%\n",
      "Accuracy of horse: 75.3%\n",
      "Accuracy of ship: 72.4%\n",
      "Accuracy of truck: 68.1%\n"
     ]
    }
   ],
   "source": [
    "with torch.no_grad():\n",
    "    n_correct = 0\n",
    "    n_samples = 0\n",
    "    n_class_correct = [0 for i in range(10)]\n",
    "    n_class_samples = [0 for i in range(10)]\n",
    "    for images, labels in test_loader:\n",
    "        images = images.to(device)\n",
    "        labels = labels.to(device)\n",
    "        outputs = model(images)\n",
    "        _, predicted = torch.max(outputs, 1)\n",
    "        n_samples += labels.size(0)\n",
    "        n_correct += (predicted == labels).sum().item()\n",
    "        \n",
    "        for i in range(batch_size):\n",
    "            label = labels[i]\n",
    "            pred = predicted[i]\n",
    "            if (label == pred):\n",
    "                n_class_correct[label] += 1\n",
    "            n_class_samples[label] += 1\n",
    "        \n",
    "    acc = 100.0 * n_correct / n_samples\n",
    "    print(f'Accuracy of the network: {acc}%')\n",
    "    \n",
    "    for i in range(10):\n",
    "        acc = 100.0 * n_class_correct[i] / n_class_samples[i]\n",
    "        print(f'Accuracy of {classes[i]}: {acc}%')\n",
    "                "
   ]
  },
  {
   "cell_type": "markdown",
   "id": "c7b2fde7-b300-4409-a016-3ca3e0a0edc6",
   "metadata": {},
   "source": [
    "## Building model by transfer learning\n",
    "I am using pretrained ResNet18 model."
   ]
  },
  {
   "cell_type": "code",
   "execution_count": 7,
   "id": "7dfcb771-f690-4a97-9387-1cf76532c330",
   "metadata": {},
   "outputs": [],
   "source": [
    "from torchsummary import summary"
   ]
  },
  {
   "cell_type": "code",
   "execution_count": 27,
   "id": "9bd26be1-be87-4deb-9115-fa476922205d",
   "metadata": {},
   "outputs": [],
   "source": [
    "model = models.resnet18(pretrained=True).to(device)"
   ]
  },
  {
   "cell_type": "code",
   "execution_count": 28,
   "id": "684b0ec1-a6ac-4c55-8dff-09db124f53d5",
   "metadata": {},
   "outputs": [
    {
     "name": "stdout",
     "output_type": "stream",
     "text": [
      "----------------------------------------------------------------\n",
      "        Layer (type)               Output Shape         Param #\n",
      "================================================================\n",
      "            Conv2d-1           [-1, 64, 16, 16]           9,408\n",
      "       BatchNorm2d-2           [-1, 64, 16, 16]             128\n",
      "              ReLU-3           [-1, 64, 16, 16]               0\n",
      "         MaxPool2d-4             [-1, 64, 8, 8]               0\n",
      "            Conv2d-5             [-1, 64, 8, 8]          36,864\n",
      "       BatchNorm2d-6             [-1, 64, 8, 8]             128\n",
      "              ReLU-7             [-1, 64, 8, 8]               0\n",
      "            Conv2d-8             [-1, 64, 8, 8]          36,864\n",
      "       BatchNorm2d-9             [-1, 64, 8, 8]             128\n",
      "             ReLU-10             [-1, 64, 8, 8]               0\n",
      "       BasicBlock-11             [-1, 64, 8, 8]               0\n",
      "           Conv2d-12             [-1, 64, 8, 8]          36,864\n",
      "      BatchNorm2d-13             [-1, 64, 8, 8]             128\n",
      "             ReLU-14             [-1, 64, 8, 8]               0\n",
      "           Conv2d-15             [-1, 64, 8, 8]          36,864\n",
      "      BatchNorm2d-16             [-1, 64, 8, 8]             128\n",
      "             ReLU-17             [-1, 64, 8, 8]               0\n",
      "       BasicBlock-18             [-1, 64, 8, 8]               0\n",
      "           Conv2d-19            [-1, 128, 4, 4]          73,728\n",
      "      BatchNorm2d-20            [-1, 128, 4, 4]             256\n",
      "             ReLU-21            [-1, 128, 4, 4]               0\n",
      "           Conv2d-22            [-1, 128, 4, 4]         147,456\n",
      "      BatchNorm2d-23            [-1, 128, 4, 4]             256\n",
      "           Conv2d-24            [-1, 128, 4, 4]           8,192\n",
      "      BatchNorm2d-25            [-1, 128, 4, 4]             256\n",
      "             ReLU-26            [-1, 128, 4, 4]               0\n",
      "       BasicBlock-27            [-1, 128, 4, 4]               0\n",
      "           Conv2d-28            [-1, 128, 4, 4]         147,456\n",
      "      BatchNorm2d-29            [-1, 128, 4, 4]             256\n",
      "             ReLU-30            [-1, 128, 4, 4]               0\n",
      "           Conv2d-31            [-1, 128, 4, 4]         147,456\n",
      "      BatchNorm2d-32            [-1, 128, 4, 4]             256\n",
      "             ReLU-33            [-1, 128, 4, 4]               0\n",
      "       BasicBlock-34            [-1, 128, 4, 4]               0\n",
      "           Conv2d-35            [-1, 256, 2, 2]         294,912\n",
      "      BatchNorm2d-36            [-1, 256, 2, 2]             512\n",
      "             ReLU-37            [-1, 256, 2, 2]               0\n",
      "           Conv2d-38            [-1, 256, 2, 2]         589,824\n",
      "      BatchNorm2d-39            [-1, 256, 2, 2]             512\n",
      "           Conv2d-40            [-1, 256, 2, 2]          32,768\n",
      "      BatchNorm2d-41            [-1, 256, 2, 2]             512\n",
      "             ReLU-42            [-1, 256, 2, 2]               0\n",
      "       BasicBlock-43            [-1, 256, 2, 2]               0\n",
      "           Conv2d-44            [-1, 256, 2, 2]         589,824\n",
      "      BatchNorm2d-45            [-1, 256, 2, 2]             512\n",
      "             ReLU-46            [-1, 256, 2, 2]               0\n",
      "           Conv2d-47            [-1, 256, 2, 2]         589,824\n",
      "      BatchNorm2d-48            [-1, 256, 2, 2]             512\n",
      "             ReLU-49            [-1, 256, 2, 2]               0\n",
      "       BasicBlock-50            [-1, 256, 2, 2]               0\n",
      "           Conv2d-51            [-1, 512, 1, 1]       1,179,648\n",
      "      BatchNorm2d-52            [-1, 512, 1, 1]           1,024\n",
      "             ReLU-53            [-1, 512, 1, 1]               0\n",
      "           Conv2d-54            [-1, 512, 1, 1]       2,359,296\n",
      "      BatchNorm2d-55            [-1, 512, 1, 1]           1,024\n",
      "           Conv2d-56            [-1, 512, 1, 1]         131,072\n",
      "      BatchNorm2d-57            [-1, 512, 1, 1]           1,024\n",
      "             ReLU-58            [-1, 512, 1, 1]               0\n",
      "       BasicBlock-59            [-1, 512, 1, 1]               0\n",
      "           Conv2d-60            [-1, 512, 1, 1]       2,359,296\n",
      "      BatchNorm2d-61            [-1, 512, 1, 1]           1,024\n",
      "             ReLU-62            [-1, 512, 1, 1]               0\n",
      "           Conv2d-63            [-1, 512, 1, 1]       2,359,296\n",
      "      BatchNorm2d-64            [-1, 512, 1, 1]           1,024\n",
      "             ReLU-65            [-1, 512, 1, 1]               0\n",
      "       BasicBlock-66            [-1, 512, 1, 1]               0\n",
      "AdaptiveAvgPool2d-67            [-1, 512, 1, 1]               0\n",
      "           Linear-68                 [-1, 1000]         513,000\n",
      "================================================================\n",
      "Total params: 11,689,512\n",
      "Trainable params: 11,689,512\n",
      "Non-trainable params: 0\n",
      "----------------------------------------------------------------\n",
      "Input size (MB): 0.01\n",
      "Forward/backward pass size (MB): 1.29\n",
      "Params size (MB): 44.59\n",
      "Estimated Total Size (MB): 45.90\n",
      "----------------------------------------------------------------\n"
     ]
    }
   ],
   "source": [
    "input_size = (3, 32, 32)\n",
    "summary(model, input_size)"
   ]
  },
  {
   "cell_type": "code",
   "execution_count": 31,
   "id": "3f0765a3-d817-49b7-8184-6a660428d00c",
   "metadata": {},
   "outputs": [
    {
     "data": {
      "text/plain": [
       "512"
      ]
     },
     "execution_count": 31,
     "metadata": {},
     "output_type": "execute_result"
    }
   ],
   "source": [
    "# input size for the last fully connected layer. \n",
    "num_ftrs = model.fc.in_features\n",
    "num_ftrs"
   ]
  },
  {
   "cell_type": "code",
   "execution_count": 35,
   "id": "8f66eac3-8e27-45f0-a972-6ea4471240bf",
   "metadata": {},
   "outputs": [],
   "source": [
    "# I assign new fully connected layer at the top of the ResNet18 model.\n",
    "n_classes = len(classes)\n",
    "model.fc = nn.Linear(num_ftrs, n_classes)\n",
    "model = model.to(device)"
   ]
  },
  {
   "cell_type": "code",
   "execution_count": 37,
   "id": "2331794c-0eb9-4fdb-a3d9-82db6aca4826",
   "metadata": {},
   "outputs": [
    {
     "name": "stdout",
     "output_type": "stream",
     "text": [
      "----------------------------------------------------------------\n",
      "        Layer (type)               Output Shape         Param #\n",
      "================================================================\n",
      "            Conv2d-1           [-1, 64, 16, 16]           9,408\n",
      "       BatchNorm2d-2           [-1, 64, 16, 16]             128\n",
      "              ReLU-3           [-1, 64, 16, 16]               0\n",
      "         MaxPool2d-4             [-1, 64, 8, 8]               0\n",
      "            Conv2d-5             [-1, 64, 8, 8]          36,864\n",
      "       BatchNorm2d-6             [-1, 64, 8, 8]             128\n",
      "              ReLU-7             [-1, 64, 8, 8]               0\n",
      "            Conv2d-8             [-1, 64, 8, 8]          36,864\n",
      "       BatchNorm2d-9             [-1, 64, 8, 8]             128\n",
      "             ReLU-10             [-1, 64, 8, 8]               0\n",
      "       BasicBlock-11             [-1, 64, 8, 8]               0\n",
      "           Conv2d-12             [-1, 64, 8, 8]          36,864\n",
      "      BatchNorm2d-13             [-1, 64, 8, 8]             128\n",
      "             ReLU-14             [-1, 64, 8, 8]               0\n",
      "           Conv2d-15             [-1, 64, 8, 8]          36,864\n",
      "      BatchNorm2d-16             [-1, 64, 8, 8]             128\n",
      "             ReLU-17             [-1, 64, 8, 8]               0\n",
      "       BasicBlock-18             [-1, 64, 8, 8]               0\n",
      "           Conv2d-19            [-1, 128, 4, 4]          73,728\n",
      "      BatchNorm2d-20            [-1, 128, 4, 4]             256\n",
      "             ReLU-21            [-1, 128, 4, 4]               0\n",
      "           Conv2d-22            [-1, 128, 4, 4]         147,456\n",
      "      BatchNorm2d-23            [-1, 128, 4, 4]             256\n",
      "           Conv2d-24            [-1, 128, 4, 4]           8,192\n",
      "      BatchNorm2d-25            [-1, 128, 4, 4]             256\n",
      "             ReLU-26            [-1, 128, 4, 4]               0\n",
      "       BasicBlock-27            [-1, 128, 4, 4]               0\n",
      "           Conv2d-28            [-1, 128, 4, 4]         147,456\n",
      "      BatchNorm2d-29            [-1, 128, 4, 4]             256\n",
      "             ReLU-30            [-1, 128, 4, 4]               0\n",
      "           Conv2d-31            [-1, 128, 4, 4]         147,456\n",
      "      BatchNorm2d-32            [-1, 128, 4, 4]             256\n",
      "             ReLU-33            [-1, 128, 4, 4]               0\n",
      "       BasicBlock-34            [-1, 128, 4, 4]               0\n",
      "           Conv2d-35            [-1, 256, 2, 2]         294,912\n",
      "      BatchNorm2d-36            [-1, 256, 2, 2]             512\n",
      "             ReLU-37            [-1, 256, 2, 2]               0\n",
      "           Conv2d-38            [-1, 256, 2, 2]         589,824\n",
      "      BatchNorm2d-39            [-1, 256, 2, 2]             512\n",
      "           Conv2d-40            [-1, 256, 2, 2]          32,768\n",
      "      BatchNorm2d-41            [-1, 256, 2, 2]             512\n",
      "             ReLU-42            [-1, 256, 2, 2]               0\n",
      "       BasicBlock-43            [-1, 256, 2, 2]               0\n",
      "           Conv2d-44            [-1, 256, 2, 2]         589,824\n",
      "      BatchNorm2d-45            [-1, 256, 2, 2]             512\n",
      "             ReLU-46            [-1, 256, 2, 2]               0\n",
      "           Conv2d-47            [-1, 256, 2, 2]         589,824\n",
      "      BatchNorm2d-48            [-1, 256, 2, 2]             512\n",
      "             ReLU-49            [-1, 256, 2, 2]               0\n",
      "       BasicBlock-50            [-1, 256, 2, 2]               0\n",
      "           Conv2d-51            [-1, 512, 1, 1]       1,179,648\n",
      "      BatchNorm2d-52            [-1, 512, 1, 1]           1,024\n",
      "             ReLU-53            [-1, 512, 1, 1]               0\n",
      "           Conv2d-54            [-1, 512, 1, 1]       2,359,296\n",
      "      BatchNorm2d-55            [-1, 512, 1, 1]           1,024\n",
      "           Conv2d-56            [-1, 512, 1, 1]         131,072\n",
      "      BatchNorm2d-57            [-1, 512, 1, 1]           1,024\n",
      "             ReLU-58            [-1, 512, 1, 1]               0\n",
      "       BasicBlock-59            [-1, 512, 1, 1]               0\n",
      "           Conv2d-60            [-1, 512, 1, 1]       2,359,296\n",
      "      BatchNorm2d-61            [-1, 512, 1, 1]           1,024\n",
      "             ReLU-62            [-1, 512, 1, 1]               0\n",
      "           Conv2d-63            [-1, 512, 1, 1]       2,359,296\n",
      "      BatchNorm2d-64            [-1, 512, 1, 1]           1,024\n",
      "             ReLU-65            [-1, 512, 1, 1]               0\n",
      "       BasicBlock-66            [-1, 512, 1, 1]               0\n",
      "AdaptiveAvgPool2d-67            [-1, 512, 1, 1]               0\n",
      "           Linear-68                   [-1, 10]           5,130\n",
      "================================================================\n",
      "Total params: 11,181,642\n",
      "Trainable params: 11,181,642\n",
      "Non-trainable params: 0\n",
      "----------------------------------------------------------------\n",
      "Input size (MB): 0.01\n",
      "Forward/backward pass size (MB): 1.29\n",
      "Params size (MB): 42.65\n",
      "Estimated Total Size (MB): 43.95\n",
      "----------------------------------------------------------------\n"
     ]
    }
   ],
   "source": [
    "summary(model, input_size)"
   ]
  },
  {
   "cell_type": "code",
   "execution_count": 38,
   "id": "150cc63f-0e9c-49e2-9d85-280eb7851e43",
   "metadata": {},
   "outputs": [],
   "source": [
    "# Now definition of criterion/loss function\n",
    "criterion_RsN = nn.CrossEntropyLoss()\n",
    "\n",
    "# and optimizer definition\n",
    "optimizer_RsN = torch.optim.Adam(model.parameters(), lr=0.001)\n",
    "\n",
    "# Updating learning rate by scheduler\n",
    "step_lr_scheduler = lr_scheduler.StepLR(optimizer_RsN, step_size=7, gamma=0.1)\n",
    "# -> every 7 epochs learning rate is multiplied by gamma value"
   ]
  },
  {
   "cell_type": "code",
   "execution_count": 40,
   "id": "af52ce94-d23f-4afd-9b73-a0bd2a492e3d",
   "metadata": {},
   "outputs": [
    {
     "name": "stdout",
     "output_type": "stream",
     "text": [
      "Epoch: 1/10, Step: 500/1250, Loss: 1.0320\n",
      "Epoch: 1/10, Step: 1000/1250, Loss: 0.9050\n",
      "Epoch: 2/10, Step: 500/1250, Loss: 0.7939\n",
      "Epoch: 2/10, Step: 1000/1250, Loss: 0.7465\n",
      "Epoch: 3/10, Step: 500/1250, Loss: 0.5550\n",
      "Epoch: 3/10, Step: 1000/1250, Loss: 0.5983\n",
      "Epoch: 4/10, Step: 500/1250, Loss: 0.5494\n",
      "Epoch: 4/10, Step: 1000/1250, Loss: 0.6097\n",
      "Epoch: 5/10, Step: 500/1250, Loss: 0.3816\n",
      "Epoch: 5/10, Step: 1000/1250, Loss: 0.1740\n",
      "Epoch: 6/10, Step: 500/1250, Loss: 0.3619\n",
      "Epoch: 6/10, Step: 1000/1250, Loss: 0.1413\n",
      "Epoch: 7/10, Step: 500/1250, Loss: 0.1473\n",
      "Epoch: 7/10, Step: 1000/1250, Loss: 0.2289\n",
      "Epoch: 8/10, Step: 500/1250, Loss: 0.2712\n",
      "Epoch: 8/10, Step: 1000/1250, Loss: 0.1283\n",
      "Epoch: 9/10, Step: 500/1250, Loss: 0.2985\n",
      "Epoch: 9/10, Step: 1000/1250, Loss: 0.1755\n",
      "Epoch: 10/10, Step: 500/1250, Loss: 0.2019\n",
      "Epoch: 10/10, Step: 1000/1250, Loss: 0.0719\n",
      "Training Finished. Hurraay!\n"
     ]
    }
   ],
   "source": [
    "n_total_steps = len(train_loader) # number of training mini-batches\n",
    "for epoch in range(num_epochs):\n",
    "    for i, (images, labels) in enumerate(train_loader):\n",
    "        # mini-batch is sent to the device \n",
    "        images = images.to(device)\n",
    "        labels = labels.to(device)\n",
    "        \n",
    "        # Forward pass\n",
    "        outputs = model(images)\n",
    "        loss = criterion_RsN(outputs, labels)\n",
    "        \n",
    "        # Backward and optimize\n",
    "        optimizer_RsN.zero_grad()\n",
    "        loss.backward()\n",
    "        optimizer_RsN.step()\n",
    "        \n",
    "        if (i+1) % 500 == 0:\n",
    "            print(f'Epoch: {epoch+1}/{num_epochs}, Step: {i+1}/{n_total_steps}, Loss: {loss.item():.4f}')\n",
    "\n",
    "print('Training Finished. Hurraay!')"
   ]
  },
  {
   "cell_type": "code",
   "execution_count": 41,
   "id": "4075a23f-d224-42ba-ac92-ad5f24456030",
   "metadata": {},
   "outputs": [
    {
     "name": "stdout",
     "output_type": "stream",
     "text": [
      "Accuracy of the network: 79.1%\n",
      "Accuracy of plane: 81.7%\n",
      "Accuracy of car: 87.4%\n",
      "Accuracy of bird: 74.2%\n",
      "Accuracy of cat: 55.1%\n",
      "Accuracy of deer: 81.6%\n",
      "Accuracy of dog: 71.4%\n",
      "Accuracy of frog: 83.6%\n",
      "Accuracy of horse: 83.0%\n",
      "Accuracy of ship: 86.2%\n",
      "Accuracy of truck: 86.8%\n"
     ]
    }
   ],
   "source": [
    "with torch.no_grad():\n",
    "    n_correct = 0\n",
    "    n_samples = 0\n",
    "    n_class_correct = [0 for i in range(10)]\n",
    "    n_class_samples = [0 for i in range(10)]\n",
    "    for images, labels in test_loader:\n",
    "        images = images.to(device)\n",
    "        labels = labels.to(device)\n",
    "        outputs = model(images)\n",
    "        _, predicted = torch.max(outputs, 1)\n",
    "        n_samples += labels.size(0)\n",
    "        n_correct += (predicted == labels).sum().item()\n",
    "        \n",
    "        for i in range(batch_size):\n",
    "            label = labels[i]\n",
    "            pred = predicted[i]\n",
    "            if (label == pred):\n",
    "                n_class_correct[label] += 1\n",
    "            n_class_samples[label] += 1\n",
    "        \n",
    "    acc = 100.0 * n_correct / n_samples\n",
    "    print(f'Accuracy of the network: {acc}%')\n",
    "    \n",
    "    for i in range(10):\n",
    "        acc = 100.0 * n_class_correct[i] / n_class_samples[i]\n",
    "        print(f'Accuracy of {classes[i]}: {acc}%')"
   ]
  },
  {
   "cell_type": "code",
   "execution_count": null,
   "id": "593f3053-5129-45d3-bb8b-50c5dae2ec47",
   "metadata": {},
   "outputs": [],
   "source": []
  }
 ],
 "metadata": {
  "kernelspec": {
   "display_name": "Python 3",
   "language": "python",
   "name": "python3"
  },
  "language_info": {
   "codemirror_mode": {
    "name": "ipython",
    "version": 3
   },
   "file_extension": ".py",
   "mimetype": "text/x-python",
   "name": "python",
   "nbconvert_exporter": "python",
   "pygments_lexer": "ipython3",
   "version": "3.6.8"
  }
 },
 "nbformat": 4,
 "nbformat_minor": 5
}
